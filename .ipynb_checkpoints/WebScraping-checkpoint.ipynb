{
 "cells": [
  {
   "cell_type": "code",
   "execution_count": 1,
   "metadata": {
    "collapsed": true
   },
   "outputs": [],
   "source": [
    "from urllib.request import urlopen\n",
    "from bs4 import BeautifulSoup\n",
    "from selenium import webdriver\n",
    "import time"
   ]
  },
  {
   "cell_type": "code",
   "execution_count": 2,
   "metadata": {
    "collapsed": true
   },
   "outputs": [],
   "source": [
    "rootPath = \"https://www.dermquest.com\""
   ]
  },
  {
   "cell_type": "code",
   "execution_count": 3,
   "metadata": {
    "collapsed": true
   },
   "outputs": [],
   "source": [
    "browser = webdriver.Chrome()\n",
    "browser.get(\"https://www.dermquest.com/image-library/image-search\")\n",
    "time.sleep(3)"
   ]
  },
  {
   "cell_type": "code",
   "execution_count": 5,
   "metadata": {},
   "outputs": [],
   "source": [
    "# try clicking the 'x' button\n",
    "closeBtn1 = browser.find_element_by_css_selector(\".fancybox-item.fancybox-close\")\n",
    "# try clicking the 'OK' button\n",
    "closeBtn2 = browser.find_element_by_css_selector(\".btn.btn-minWidth.btn-onDarkBg\")\n",
    "# print(closeBtn)"
   ]
  },
  {
   "cell_type": "code",
   "execution_count": 8,
   "metadata": {},
   "outputs": [],
   "source": [
    "closeBtn1.click()\n",
    "closeBtn2.click()\n",
    "browser.switch_to_default_content()"
   ]
  },
  {
   "cell_type": "code",
   "execution_count": 59,
   "metadata": {
    "collapsed": true
   },
   "outputs": [],
   "source": [
    "diagnosis = browser.find_element_by_xpath('//a[@href=\"#diagnosis\"]')\n",
    "diagnosis.click()"
   ]
  },
  {
   "cell_type": "code",
   "execution_count": 61,
   "metadata": {
    "collapsed": true
   },
   "outputs": [],
   "source": [
    "#test = browser.find_element_by_partial_link_text('Acne')"
   ]
  },
  {
   "cell_type": "code",
   "execution_count": 68,
   "metadata": {},
   "outputs": [
    {
     "ename": "ElementNotVisibleException",
     "evalue": "Message: element not visible\n  (Session info: chrome=63.0.3239.132)\n  (Driver info: chromedriver=2.35.528161 (5b82f2d2aae0ca24b877009200ced9065a772e73),platform=Windows NT 10.0.16299 x86_64)\n",
     "output_type": "error",
     "traceback": [
      "\u001b[1;31m---------------------------------------------------------------------------\u001b[0m",
      "\u001b[1;31mElementNotVisibleException\u001b[0m                Traceback (most recent call last)",
      "\u001b[1;32m<ipython-input-68-3d8831f2116f>\u001b[0m in \u001b[0;36m<module>\u001b[1;34m()\u001b[0m\n\u001b[0;32m      1\u001b[0m \u001b[0mdx_label_1\u001b[0m \u001b[1;33m=\u001b[0m \u001b[0mbrowser\u001b[0m\u001b[1;33m.\u001b[0m\u001b[0mfind_element_by_xpath\u001b[0m\u001b[1;33m(\u001b[0m\u001b[1;34m'//label[@for=\"facet_109493\"]'\u001b[0m\u001b[1;33m)\u001b[0m\u001b[1;33m\u001b[0m\u001b[0m\n\u001b[1;32m----> 2\u001b[1;33m \u001b[0mdx_label_1\u001b[0m\u001b[1;33m.\u001b[0m\u001b[0mclick\u001b[0m\u001b[1;33m(\u001b[0m\u001b[1;33m)\u001b[0m\u001b[1;33m\u001b[0m\u001b[0m\n\u001b[0m",
      "\u001b[1;32m~\\Anaconda3\\lib\\site-packages\\selenium\\webdriver\\remote\\webelement.py\u001b[0m in \u001b[0;36mclick\u001b[1;34m(self)\u001b[0m\n\u001b[0;32m     78\u001b[0m     \u001b[1;32mdef\u001b[0m \u001b[0mclick\u001b[0m\u001b[1;33m(\u001b[0m\u001b[0mself\u001b[0m\u001b[1;33m)\u001b[0m\u001b[1;33m:\u001b[0m\u001b[1;33m\u001b[0m\u001b[0m\n\u001b[0;32m     79\u001b[0m         \u001b[1;34m\"\"\"Clicks the element.\"\"\"\u001b[0m\u001b[1;33m\u001b[0m\u001b[0m\n\u001b[1;32m---> 80\u001b[1;33m         \u001b[0mself\u001b[0m\u001b[1;33m.\u001b[0m\u001b[0m_execute\u001b[0m\u001b[1;33m(\u001b[0m\u001b[0mCommand\u001b[0m\u001b[1;33m.\u001b[0m\u001b[0mCLICK_ELEMENT\u001b[0m\u001b[1;33m)\u001b[0m\u001b[1;33m\u001b[0m\u001b[0m\n\u001b[0m\u001b[0;32m     81\u001b[0m \u001b[1;33m\u001b[0m\u001b[0m\n\u001b[0;32m     82\u001b[0m     \u001b[1;32mdef\u001b[0m \u001b[0msubmit\u001b[0m\u001b[1;33m(\u001b[0m\u001b[0mself\u001b[0m\u001b[1;33m)\u001b[0m\u001b[1;33m:\u001b[0m\u001b[1;33m\u001b[0m\u001b[0m\n",
      "\u001b[1;32m~\\Anaconda3\\lib\\site-packages\\selenium\\webdriver\\remote\\webelement.py\u001b[0m in \u001b[0;36m_execute\u001b[1;34m(self, command, params)\u001b[0m\n\u001b[0;32m    626\u001b[0m             \u001b[0mparams\u001b[0m \u001b[1;33m=\u001b[0m \u001b[1;33m{\u001b[0m\u001b[1;33m}\u001b[0m\u001b[1;33m\u001b[0m\u001b[0m\n\u001b[0;32m    627\u001b[0m         \u001b[0mparams\u001b[0m\u001b[1;33m[\u001b[0m\u001b[1;34m'id'\u001b[0m\u001b[1;33m]\u001b[0m \u001b[1;33m=\u001b[0m \u001b[0mself\u001b[0m\u001b[1;33m.\u001b[0m\u001b[0m_id\u001b[0m\u001b[1;33m\u001b[0m\u001b[0m\n\u001b[1;32m--> 628\u001b[1;33m         \u001b[1;32mreturn\u001b[0m \u001b[0mself\u001b[0m\u001b[1;33m.\u001b[0m\u001b[0m_parent\u001b[0m\u001b[1;33m.\u001b[0m\u001b[0mexecute\u001b[0m\u001b[1;33m(\u001b[0m\u001b[0mcommand\u001b[0m\u001b[1;33m,\u001b[0m \u001b[0mparams\u001b[0m\u001b[1;33m)\u001b[0m\u001b[1;33m\u001b[0m\u001b[0m\n\u001b[0m\u001b[0;32m    629\u001b[0m \u001b[1;33m\u001b[0m\u001b[0m\n\u001b[0;32m    630\u001b[0m     \u001b[1;32mdef\u001b[0m \u001b[0mfind_element\u001b[0m\u001b[1;33m(\u001b[0m\u001b[0mself\u001b[0m\u001b[1;33m,\u001b[0m \u001b[0mby\u001b[0m\u001b[1;33m=\u001b[0m\u001b[0mBy\u001b[0m\u001b[1;33m.\u001b[0m\u001b[0mID\u001b[0m\u001b[1;33m,\u001b[0m \u001b[0mvalue\u001b[0m\u001b[1;33m=\u001b[0m\u001b[1;32mNone\u001b[0m\u001b[1;33m)\u001b[0m\u001b[1;33m:\u001b[0m\u001b[1;33m\u001b[0m\u001b[0m\n",
      "\u001b[1;32m~\\Anaconda3\\lib\\site-packages\\selenium\\webdriver\\remote\\webdriver.py\u001b[0m in \u001b[0;36mexecute\u001b[1;34m(self, driver_command, params)\u001b[0m\n\u001b[0;32m    310\u001b[0m         \u001b[0mresponse\u001b[0m \u001b[1;33m=\u001b[0m \u001b[0mself\u001b[0m\u001b[1;33m.\u001b[0m\u001b[0mcommand_executor\u001b[0m\u001b[1;33m.\u001b[0m\u001b[0mexecute\u001b[0m\u001b[1;33m(\u001b[0m\u001b[0mdriver_command\u001b[0m\u001b[1;33m,\u001b[0m \u001b[0mparams\u001b[0m\u001b[1;33m)\u001b[0m\u001b[1;33m\u001b[0m\u001b[0m\n\u001b[0;32m    311\u001b[0m         \u001b[1;32mif\u001b[0m \u001b[0mresponse\u001b[0m\u001b[1;33m:\u001b[0m\u001b[1;33m\u001b[0m\u001b[0m\n\u001b[1;32m--> 312\u001b[1;33m             \u001b[0mself\u001b[0m\u001b[1;33m.\u001b[0m\u001b[0merror_handler\u001b[0m\u001b[1;33m.\u001b[0m\u001b[0mcheck_response\u001b[0m\u001b[1;33m(\u001b[0m\u001b[0mresponse\u001b[0m\u001b[1;33m)\u001b[0m\u001b[1;33m\u001b[0m\u001b[0m\n\u001b[0m\u001b[0;32m    313\u001b[0m             response['value'] = self._unwrap_value(\n\u001b[0;32m    314\u001b[0m                 response.get('value', None))\n",
      "\u001b[1;32m~\\Anaconda3\\lib\\site-packages\\selenium\\webdriver\\remote\\errorhandler.py\u001b[0m in \u001b[0;36mcheck_response\u001b[1;34m(self, response)\u001b[0m\n\u001b[0;32m    235\u001b[0m         \u001b[1;32melif\u001b[0m \u001b[0mexception_class\u001b[0m \u001b[1;33m==\u001b[0m \u001b[0mUnexpectedAlertPresentException\u001b[0m \u001b[1;32mand\u001b[0m \u001b[1;34m'alert'\u001b[0m \u001b[1;32min\u001b[0m \u001b[0mvalue\u001b[0m\u001b[1;33m:\u001b[0m\u001b[1;33m\u001b[0m\u001b[0m\n\u001b[0;32m    236\u001b[0m             \u001b[1;32mraise\u001b[0m \u001b[0mexception_class\u001b[0m\u001b[1;33m(\u001b[0m\u001b[0mmessage\u001b[0m\u001b[1;33m,\u001b[0m \u001b[0mscreen\u001b[0m\u001b[1;33m,\u001b[0m \u001b[0mstacktrace\u001b[0m\u001b[1;33m,\u001b[0m \u001b[0mvalue\u001b[0m\u001b[1;33m[\u001b[0m\u001b[1;34m'alert'\u001b[0m\u001b[1;33m]\u001b[0m\u001b[1;33m.\u001b[0m\u001b[0mget\u001b[0m\u001b[1;33m(\u001b[0m\u001b[1;34m'text'\u001b[0m\u001b[1;33m)\u001b[0m\u001b[1;33m)\u001b[0m\u001b[1;33m\u001b[0m\u001b[0m\n\u001b[1;32m--> 237\u001b[1;33m         \u001b[1;32mraise\u001b[0m \u001b[0mexception_class\u001b[0m\u001b[1;33m(\u001b[0m\u001b[0mmessage\u001b[0m\u001b[1;33m,\u001b[0m \u001b[0mscreen\u001b[0m\u001b[1;33m,\u001b[0m \u001b[0mstacktrace\u001b[0m\u001b[1;33m)\u001b[0m\u001b[1;33m\u001b[0m\u001b[0m\n\u001b[0m\u001b[0;32m    238\u001b[0m \u001b[1;33m\u001b[0m\u001b[0m\n\u001b[0;32m    239\u001b[0m     \u001b[1;32mdef\u001b[0m \u001b[0m_value_or_default\u001b[0m\u001b[1;33m(\u001b[0m\u001b[0mself\u001b[0m\u001b[1;33m,\u001b[0m \u001b[0mobj\u001b[0m\u001b[1;33m,\u001b[0m \u001b[0mkey\u001b[0m\u001b[1;33m,\u001b[0m \u001b[0mdefault\u001b[0m\u001b[1;33m)\u001b[0m\u001b[1;33m:\u001b[0m\u001b[1;33m\u001b[0m\u001b[0m\n",
      "\u001b[1;31mElementNotVisibleException\u001b[0m: Message: element not visible\n  (Session info: chrome=63.0.3239.132)\n  (Driver info: chromedriver=2.35.528161 (5b82f2d2aae0ca24b877009200ced9065a772e73),platform=Windows NT 10.0.16299 x86_64)\n"
     ]
    }
   ],
   "source": [
    "dx_label_1 = browser.find_element_by_xpath('//label[@for=\"facet_109493\"]')\n",
    "dx_label_1.click()"
   ]
  },
  {
   "cell_type": "code",
   "execution_count": 70,
   "metadata": {
    "collapsed": true
   },
   "outputs": [],
   "source": [
    "viewBtn = browser.find_element_by_css_selector(\".btn.search-trigger\")\n",
    "viewBtn.click()"
   ]
  },
  {
   "cell_type": "code",
   "execution_count": 125,
   "metadata": {
    "collapsed": true
   },
   "outputs": [],
   "source": [
    "img_list = []\n",
    "while True and len(img_list) < 100:\n",
    "    page = browser.find_element_by_xpath(\"//*\").get_attribute(\"outerHTML\")\n",
    "    soup = BeautifulSoup(page, 'lxml')\n",
    "    all_div_tags = soup.find_all('div',attrs={'class': 'inner'})\n",
    "    for d in all_div_tags:\n",
    "        if d.p.span.a.img:\n",
    "            imageLink = d.p.span.a.img['src'].split('?')[0].replace('thumb', 'large')\n",
    "            img_list.append(rootPath + imageLink)\n",
    "            if len(img_list) >= 100:\n",
    "                break\n",
    "    try:\n",
    "        nextBtn = browser.find_element_by_css_selector(\".next.active\")\n",
    "    except:\n",
    "        break\n",
    "    nextBtn.click()\n",
    "    time.sleep(2)"
   ]
  },
  {
   "cell_type": "code",
   "execution_count": 126,
   "metadata": {},
   "outputs": [
    {
     "name": "stdout",
     "output_type": "stream",
     "text": [
      "https://www.dermquest.com/imagelibrary/large/10556-P7070063.JPG\n",
      "https://www.dermquest.com/imagelibrary/large/10556-P7070060.JPG\n",
      "https://www.dermquest.com/imagelibrary/large/033072HB.JPG\n",
      "https://www.dermquest.com/imagelibrary/large/033071HB.JPG\n",
      "https://www.dermquest.com/imagelibrary/large/033070HB.JPG\n",
      "https://www.dermquest.com/imagelibrary/large/033067HB.JPG\n",
      "https://www.dermquest.com/imagelibrary/large/033066HB.JPG\n",
      "https://www.dermquest.com/imagelibrary/large/032523VB.JPG\n",
      "https://www.dermquest.com/imagelibrary/large/033088VB.JPG\n",
      "https://www.dermquest.com/imagelibrary/large/032125HB.JPG\n",
      "https://www.dermquest.com/imagelibrary/large/035398HB.JPG\n",
      "https://www.dermquest.com/imagelibrary/large/032524VB.JPG\n",
      "https://www.dermquest.com/imagelibrary/large/035400HB.JPG\n",
      "https://www.dermquest.com/imagelibrary/large/035399HB.JPG\n",
      "https://www.dermquest.com/imagelibrary/large/033068HB.JPG\n",
      "https://www.dermquest.com/imagelibrary/large/032522VB.JPG\n",
      "https://www.dermquest.com/imagelibrary/large/032521HB.JPG\n",
      "https://www.dermquest.com/imagelibrary/large/033087HB.JPG\n",
      "https://www.dermquest.com/imagelibrary/large/033086VB.JPG\n",
      "https://www.dermquest.com/imagelibrary/large/032007VB.JPG\n",
      "https://www.dermquest.com/imagelibrary/large/033076HB.JPG\n",
      "https://www.dermquest.com/imagelibrary/large/033073HB.JPG\n",
      "https://www.dermquest.com/imagelibrary/large/034898VB.JPG\n",
      "https://www.dermquest.com/imagelibrary/large/032676VB.JPG\n",
      "https://www.dermquest.com/imagelibrary/large/032242VB.JPG\n",
      "https://www.dermquest.com/imagelibrary/large/033993HB.JPG\n",
      "https://www.dermquest.com/imagelibrary/large/033316VB.JPG\n",
      "https://www.dermquest.com/imagelibrary/large/033043HB.JPG\n",
      "https://www.dermquest.com/imagelibrary/large/032664HB.JPG\n",
      "https://www.dermquest.com/imagelibrary/large/032529VB.JPG\n",
      "https://www.dermquest.com/imagelibrary/large/032290VB.JPG\n",
      "https://www.dermquest.com/imagelibrary/large/032086VB.JPG\n",
      "https://www.dermquest.com/imagelibrary/large/034023HB.JPG\n",
      "https://www.dermquest.com/imagelibrary/large/032891VB.JPG\n",
      "https://www.dermquest.com/imagelibrary/large/032680VB.JPG\n",
      "https://www.dermquest.com/imagelibrary/large/032679VB.JPG\n",
      "https://www.dermquest.com/imagelibrary/large/032678VB.JPG\n",
      "https://www.dermquest.com/imagelibrary/large/032675VB.JPG\n",
      "https://www.dermquest.com/imagelibrary/large/032243VB.JPG\n",
      "https://www.dermquest.com/imagelibrary/large/033614VB.JPG\n",
      "https://www.dermquest.com/imagelibrary/large/033368VB.JPG\n",
      "https://www.dermquest.com/imagelibrary/large/033045VB.JPG\n",
      "https://www.dermquest.com/imagelibrary/large/033041HB.JPG\n",
      "https://www.dermquest.com/imagelibrary/large/032670HB.JPG\n",
      "https://www.dermquest.com/imagelibrary/large/032667HB.JPG\n",
      "https://www.dermquest.com/imagelibrary/large/032532HB.JPG\n",
      "https://www.dermquest.com/imagelibrary/large/032291VB.JPG\n",
      "https://www.dermquest.com/imagelibrary/large/032289VB.JPG\n",
      "https://www.dermquest.com/imagelibrary/large/032088VB.JPG\n",
      "https://www.dermquest.com/imagelibrary/large/034113HB.JPG\n",
      "https://www.dermquest.com/imagelibrary/large/034111HB.JPG\n",
      "https://www.dermquest.com/imagelibrary/large/034107HB.JPG\n",
      "https://www.dermquest.com/imagelibrary/large/034105HB.JPG\n",
      "https://www.dermquest.com/imagelibrary/large/032750HB.JPG\n",
      "https://www.dermquest.com/imagelibrary/large/032677VB.JPG\n",
      "https://www.dermquest.com/imagelibrary/large/032245VB.JPG\n",
      "https://www.dermquest.com/imagelibrary/large/033963HB.JPG\n",
      "https://www.dermquest.com/imagelibrary/large/033617HB.JPG\n",
      "https://www.dermquest.com/imagelibrary/large/033370HB.JPG\n",
      "https://www.dermquest.com/imagelibrary/large/033367VB.JPG\n",
      "https://www.dermquest.com/imagelibrary/large/033311HB.JPG\n",
      "https://www.dermquest.com/imagelibrary/large/032666HB.JPG\n",
      "https://www.dermquest.com/imagelibrary/large/032663HB.JPG\n",
      "https://www.dermquest.com/imagelibrary/large/032531VB.JPG\n",
      "https://www.dermquest.com/imagelibrary/large/032002VB.JPG\n",
      "https://www.dermquest.com/imagelibrary/large/034114HB.JPG\n",
      "https://www.dermquest.com/imagelibrary/large/034106HB.JPG\n",
      "https://www.dermquest.com/imagelibrary/large/034104VB.JPG\n",
      "https://www.dermquest.com/imagelibrary/large/034103VB.JPG\n",
      "https://www.dermquest.com/imagelibrary/large/034012HB.JPG\n",
      "https://www.dermquest.com/imagelibrary/large/032892VB.JPG\n",
      "https://www.dermquest.com/imagelibrary/large/032246VB.JPG\n",
      "https://www.dermquest.com/imagelibrary/large/032244VB.JPG\n",
      "https://www.dermquest.com/imagelibrary/large/032241VB.JPG\n",
      "https://www.dermquest.com/imagelibrary/large/033369HB.JPG\n",
      "https://www.dermquest.com/imagelibrary/large/033314HB.JPG\n",
      "https://www.dermquest.com/imagelibrary/large/033313HB.JPG\n",
      "https://www.dermquest.com/imagelibrary/large/033312HB.JPG\n",
      "https://www.dermquest.com/imagelibrary/large/032671HB.JPG\n",
      "https://www.dermquest.com/imagelibrary/large/032669HB.JPG\n",
      "https://www.dermquest.com/imagelibrary/large/032530VB.JPG\n",
      "https://www.dermquest.com/imagelibrary/large/032303VB.JPG\n",
      "https://www.dermquest.com/imagelibrary/large/032295VB.JPG\n",
      "https://www.dermquest.com/imagelibrary/large/034108HB.JPG\n",
      "https://www.dermquest.com/imagelibrary/large/046549HB.JPG\n",
      "https://www.dermquest.com/imagelibrary/large/046548HB.JPG\n",
      "https://www.dermquest.com/imagelibrary/large/046542VB.JPG\n",
      "https://www.dermquest.com/imagelibrary/large/046533HB.JPG\n",
      "https://www.dermquest.com/imagelibrary/large/046532HB.JPG\n",
      "https://www.dermquest.com/imagelibrary/large/046502HB.JPG\n",
      "https://www.dermquest.com/imagelibrary/large/046500HB.JPG\n",
      "https://www.dermquest.com/imagelibrary/large/046491HB.JPG\n",
      "https://www.dermquest.com/imagelibrary/large/046490HB.JPG\n",
      "https://www.dermquest.com/imagelibrary/large/046489HB.JPG\n",
      "https://www.dermquest.com/imagelibrary/large/046488HB.JPG\n",
      "https://www.dermquest.com/imagelibrary/large/046486HB.JPG\n",
      "https://www.dermquest.com/imagelibrary/large/045458HB.JPG\n",
      "https://www.dermquest.com/imagelibrary/large/035370HB.JPG\n",
      "https://www.dermquest.com/imagelibrary/large/035362HB.JPG\n",
      "https://www.dermquest.com/imagelibrary/large/035352HB.JPG\n"
     ]
    }
   ],
   "source": [
    "for link in img_list:\n",
    "    print(link)"
   ]
  },
  {
   "cell_type": "code",
   "execution_count": 127,
   "metadata": {},
   "outputs": [
    {
     "data": {
      "text/plain": [
       "100"
      ]
     },
     "execution_count": 127,
     "metadata": {},
     "output_type": "execute_result"
    }
   ],
   "source": [
    "len(img_list)"
   ]
  }
 ],
 "metadata": {
  "kernelspec": {
   "display_name": "Python 3",
   "language": "python",
   "name": "python3"
  },
  "language_info": {
   "codemirror_mode": {
    "name": "ipython",
    "version": 3
   },
   "file_extension": ".py",
   "mimetype": "text/x-python",
   "name": "python",
   "nbconvert_exporter": "python",
   "pygments_lexer": "ipython3",
   "version": "3.6.3"
  }
 },
 "nbformat": 4,
 "nbformat_minor": 2
}
