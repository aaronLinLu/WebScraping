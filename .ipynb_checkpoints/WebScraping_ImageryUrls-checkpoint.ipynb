{
 "cells": [
  {
   "cell_type": "code",
   "execution_count": 1,
   "metadata": {
    "collapsed": true
   },
   "outputs": [],
   "source": [
    "from urllib.request import urlopen\n",
    "from bs4 import BeautifulSoup\n",
    "from selenium import webdriver\n",
    "import time\n",
    "import re\n",
    "import pandas as pd"
   ]
  },
  {
   "cell_type": "code",
   "execution_count": 2,
   "metadata": {
    "collapsed": true
   },
   "outputs": [],
   "source": [
    "rootPath = \"https://www.dermquest.com\""
   ]
  },
  {
   "cell_type": "code",
   "execution_count": 3,
   "metadata": {
    "collapsed": true
   },
   "outputs": [],
   "source": [
    "def Get_URLandLabel(dx_label,labelPath,max_imgs):\n",
    "    browser = webdriver.Chrome()\n",
    "    browser.get(\"https://www.dermquest.com/image-library/image-search\")\n",
    "    closeBtn1 = browser.find_element_by_css_selector(\".fancybox-item\")  # or perhaps \".fancybox-item.fancybox-close\"\n",
    "    closeBtn2 = browser.find_element_by_css_selector(\".btn.btn-minWidth.btn-onDarkBg\")\n",
    "    closeBtn1.click()\n",
    "    closeBtn2.click()\n",
    "    \n",
    "    diagnosis = browser.find_element_by_xpath('//a[@href=\"#diagnosis\"]') # a tag element with label 'href' and value 'diagnosis'\n",
    "    diagnosis.click()\n",
    "    \n",
    "    # click the initial character on the banner to activate it\n",
    "    bannerBtn_path = \"//a[@href=\\\"#alpha-\" + str(dx_label[0]).upper() + str(\"\\\"]\")\n",
    "    bannerBtn = browser.find_element_by_xpath(bannerBtn_path)\n",
    "    bannerBtn.click()\n",
    "    # locate the exact dx_label\n",
    "    dx_label = browser.find_element_by_xpath(labelPath)\n",
    "    dx_label.click()\n",
    "    \n",
    "    # go to view images\n",
    "    viewBtn = browser.find_element_by_css_selector(\".btn.search-trigger\")\n",
    "    viewBtn.click()\n",
    "    \n",
    "    img_list = []\n",
    "    lesion_label_list = []\n",
    "    while len(img_list) < max_imgs:\n",
    "        # extract html element from current page \n",
    "        page = browser.find_element_by_xpath(\"//*\").get_attribute(\"outerHTML\")\n",
    "        soup = BeautifulSoup(page, 'lxml')\n",
    "        all_div_tags = soup.find_all('div',attrs={'class': 'inner'})\n",
    "        for d in all_div_tags:\n",
    "            if d.p.span.a: \n",
    "                # get each image's a tag link, open it \n",
    "                imageLink = rootPath + d.p.span.a['href']\n",
    "                subpage = urlopen(imageLink)\n",
    "                # process this 2nd layer webpage \n",
    "                subsoup = BeautifulSoup(subpage, 'lxml')\n",
    "                target = subsoup.find_all('li', attrs={'class': 'selected'})\n",
    "                # info of lesion type is on the right side of this 2nd layer webpage\n",
    "                # exact lesion type at: the next order list element after that which has 'Primary Lesion' as text\n",
    "                lesions = subsoup.find(text=re.compile('Primary Lesions')).parent.findNext('ul').find_all('li')\n",
    "                img_list.append(rootPath + target[0].figure.a['href'])\n",
    "                tmp_lesion = []\n",
    "                for li in lesions:\n",
    "                    # strip off special characters in the lesion type paragraph; put them altogether\n",
    "                    tmp_lesion.append(li.getText().strip(' \\t\\r\\n'))\n",
    "                lesion_label_list.append(tmp_lesion)\n",
    "                if len(img_list) >= max_imgs:\n",
    "                    break\n",
    "        try:\n",
    "            nextBtn = browser.find_element_by_css_selector(\".next.active\")\n",
    "            nextBtn.click()\n",
    "            time.sleep(2)\n",
    "        except:\n",
    "            break\n",
    "    \n",
    "    # browser.close()\n",
    "    # return two lists in a form of dictionary\n",
    "    return dict(zip(img_list,lesion_label_list))"
   ]
  },
  {
   "cell_type": "code",
   "execution_count": 4,
   "metadata": {
    "collapsed": true
   },
   "outputs": [],
   "source": [
    "label_path_1 = '//label[@for=\"facet_109493\"]'  # correspond to: acne vulgaris\n",
    "label_path_2 = '//label[@for=\"facet_109831\"]'  # correspond to: keratoacanthoma"
   ]
  },
  {
   "cell_type": "code",
   "execution_count": 5,
   "metadata": {
    "collapsed": true
   },
   "outputs": [],
   "source": [
    "D1 = Get_URLandLabel('acne vulgaris',label_path_1,100)"
   ]
  },
  {
   "cell_type": "code",
   "execution_count": 6,
   "metadata": {},
   "outputs": [
    {
     "name": "stdout",
     "output_type": "stream",
     "text": [
      "100\n"
     ]
    }
   ],
   "source": [
    "print(len(list(D1.keys())))"
   ]
  },
  {
   "cell_type": "code",
   "execution_count": 7,
   "metadata": {},
   "outputs": [
    {
     "name": "stdout",
     "output_type": "stream",
     "text": [
      "100\n"
     ]
    }
   ],
   "source": [
    "D2 = Get_URLandLabel('keratoacanthoma',label_path_2,100)\n",
    "print(len(list(D2.keys())))"
   ]
  },
  {
   "cell_type": "code",
   "execution_count": 8,
   "metadata": {
    "collapsed": true
   },
   "outputs": [],
   "source": [
    "def exportToDF(dx_label,dict_data,col1,col2,col3):\n",
    "    urls = list(dict_data.keys())\n",
    "    dx_lbl_list, lesion_lbls = [],[]\n",
    "    columns = [col1,col2,col3]\n",
    "    \n",
    "    for i in range(len(urls)):\n",
    "        dx_lbl_list.append(dx_label)\n",
    "        lesion_lbls.append(str(dict_data.get(urls[i])).strip(\"[',' ,' \\t\\r\\n]\").replace(\"\\'\",\"\"))\n",
    "    \n",
    "    df_result = pd.DataFrame({col1: urls, col2: dx_lbl_list, col3: lesion_lbls})\n",
    "    df_result.reindex(columns=columns)\n",
    "    return df_result"
   ]
  },
  {
   "cell_type": "code",
   "execution_count": 9,
   "metadata": {
    "collapsed": true
   },
   "outputs": [],
   "source": [
    "df1 = exportToDF('acne vulgaris',D1,'image_url','dx_label','lesion_label')\n",
    "df2 = exportToDF('keratoacanthoma',D2,'image_url','dx_label','lesion_label')"
   ]
  },
  {
   "cell_type": "code",
   "execution_count": 10,
   "metadata": {},
   "outputs": [
    {
     "data": {
      "text/plain": [
       "(200, 3)"
      ]
     },
     "execution_count": 10,
     "metadata": {},
     "output_type": "execute_result"
    }
   ],
   "source": [
    "big_df = pd.concat([df1,df2])\n",
    "big_df.shape"
   ]
  },
  {
   "cell_type": "code",
   "execution_count": 16,
   "metadata": {},
   "outputs": [
    {
     "data": {
      "text/html": [
       "<div>\n",
       "<style scoped>\n",
       "    .dataframe tbody tr th:only-of-type {\n",
       "        vertical-align: middle;\n",
       "    }\n",
       "\n",
       "    .dataframe tbody tr th {\n",
       "        vertical-align: top;\n",
       "    }\n",
       "\n",
       "    .dataframe thead th {\n",
       "        text-align: right;\n",
       "    }\n",
       "</style>\n",
       "<table border=\"1\" class=\"dataframe\">\n",
       "  <thead>\n",
       "    <tr style=\"text-align: right;\">\n",
       "      <th></th>\n",
       "      <th>dx_label</th>\n",
       "      <th>image_url</th>\n",
       "      <th>lesion_label</th>\n",
       "    </tr>\n",
       "  </thead>\n",
       "  <tbody>\n",
       "    <tr>\n",
       "      <th>195</th>\n",
       "      <td>keratoacanthoma</td>\n",
       "      <td>https://www.dermquest.com/imagelibrary/large/0...</td>\n",
       "      <td>Erythema, Nodule, Papule / pearly, Telangiecta...</td>\n",
       "    </tr>\n",
       "    <tr>\n",
       "      <th>196</th>\n",
       "      <td>keratoacanthoma</td>\n",
       "      <td>https://www.dermquest.com/imagelibrary/large/0...</td>\n",
       "      <td>Papule / erythematous, Erythema</td>\n",
       "    </tr>\n",
       "    <tr>\n",
       "      <th>197</th>\n",
       "      <td>keratoacanthoma</td>\n",
       "      <td>https://www.dermquest.com/imagelibrary/large/0...</td>\n",
       "      <td>Papule / hyperpigmented, Hyperkeratosis</td>\n",
       "    </tr>\n",
       "    <tr>\n",
       "      <th>198</th>\n",
       "      <td>keratoacanthoma</td>\n",
       "      <td>https://www.dermquest.com/imagelibrary/large/0...</td>\n",
       "      <td>Papule / hyperpigmented, Hyperkeratosis</td>\n",
       "    </tr>\n",
       "    <tr>\n",
       "      <th>199</th>\n",
       "      <td>keratoacanthoma</td>\n",
       "      <td>https://www.dermquest.com/imagelibrary/large/0...</td>\n",
       "      <td>Papule / hyperpigmented, Hyperkeratosis</td>\n",
       "    </tr>\n",
       "  </tbody>\n",
       "</table>\n",
       "</div>"
      ],
      "text/plain": [
       "            dx_label                                          image_url  \\\n",
       "195  keratoacanthoma  https://www.dermquest.com/imagelibrary/large/0...   \n",
       "196  keratoacanthoma  https://www.dermquest.com/imagelibrary/large/0...   \n",
       "197  keratoacanthoma  https://www.dermquest.com/imagelibrary/large/0...   \n",
       "198  keratoacanthoma  https://www.dermquest.com/imagelibrary/large/0...   \n",
       "199  keratoacanthoma  https://www.dermquest.com/imagelibrary/large/0...   \n",
       "\n",
       "                                          lesion_label  \n",
       "195  Erythema, Nodule, Papule / pearly, Telangiecta...  \n",
       "196                    Papule / erythematous, Erythema  \n",
       "197            Papule / hyperpigmented, Hyperkeratosis  \n",
       "198            Papule / hyperpigmented, Hyperkeratosis  \n",
       "199            Papule / hyperpigmented, Hyperkeratosis  "
      ]
     },
     "execution_count": 16,
     "metadata": {},
     "output_type": "execute_result"
    }
   ],
   "source": [
    "big_df.index = range(len(big_df.index))\n",
    "big_df.tail()"
   ]
  },
  {
   "cell_type": "code",
   "execution_count": null,
   "metadata": {
    "collapsed": true
   },
   "outputs": [],
   "source": [
    "big_df.to_csv(\"ScrapingResult_imgUrl.csv\")"
   ]
  }
 ],
 "metadata": {
  "kernelspec": {
   "display_name": "Python 3",
   "language": "python",
   "name": "python3"
  },
  "language_info": {
   "codemirror_mode": {
    "name": "ipython",
    "version": 3
   },
   "file_extension": ".py",
   "mimetype": "text/x-python",
   "name": "python",
   "nbconvert_exporter": "python",
   "pygments_lexer": "ipython3",
   "version": "3.6.3"
  }
 },
 "nbformat": 4,
 "nbformat_minor": 2
}
