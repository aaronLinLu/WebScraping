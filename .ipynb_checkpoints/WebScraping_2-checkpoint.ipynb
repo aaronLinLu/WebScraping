{
 "cells": [
  {
   "cell_type": "code",
   "execution_count": 20,
   "metadata": {
    "collapsed": true
   },
   "outputs": [],
   "source": [
    "from urllib.request import urlopen\n",
    "from bs4 import BeautifulSoup\n",
    "from selenium import webdriver\n",
    "import time\n",
    "import re"
   ]
  },
  {
   "cell_type": "code",
   "execution_count": 21,
   "metadata": {
    "collapsed": true
   },
   "outputs": [],
   "source": [
    "rootPath = \"https://www.dermquest.com\""
   ]
  },
  {
   "cell_type": "code",
   "execution_count": 22,
   "metadata": {},
   "outputs": [],
   "source": [
    "browser = webdriver.Chrome()\n",
    "browser.get(\"https://www.dermquest.com/image-library/image-search\")\n",
    "closeBtn1 = browser.find_element_by_css_selector(\".fancybox-item\")  # or perhaps \".fancybox-item.fancybox-close\"\n",
    "closeBtn2 = browser.find_element_by_css_selector(\".btn.btn-minWidth.btn-onDarkBg\")\n",
    "closeBtn1.click()\n",
    "closeBtn2.click()"
   ]
  },
  {
   "cell_type": "code",
   "execution_count": 23,
   "metadata": {
    "collapsed": true
   },
   "outputs": [],
   "source": [
    "diagnosis = browser.find_element_by_xpath('//a[@href=\"#diagnosis\"]') # a tag element with label 'href' and value 'diagnosis'\n",
    "diagnosis.click()"
   ]
  },
  {
   "cell_type": "code",
   "execution_count": 24,
   "metadata": {
    "collapsed": true
   },
   "outputs": [],
   "source": [
    "# locate that dx_label_1\n",
    "dx_label_1 = browser.find_element_by_xpath('//label[@for=\"facet_109493\"]')\n",
    "dx_label_1.click()"
   ]
  },
  {
   "cell_type": "code",
   "execution_count": 25,
   "metadata": {
    "collapsed": true
   },
   "outputs": [],
   "source": [
    "# go to view images\n",
    "viewBtn = browser.find_element_by_css_selector(\".btn.search-trigger\")\n",
    "viewBtn.click()"
   ]
  },
  {
   "cell_type": "code",
   "execution_count": 32,
   "metadata": {},
   "outputs": [
    {
     "name": "stdout",
     "output_type": "stream",
     "text": [
      "Papule / erythematous\n",
      "Excoriation\n"
     ]
    }
   ],
   "source": [
    "max_imgs = 1\n",
    "img_list = []\n",
    "lesion_label_list = []\n",
    "while True and len(img_list) < max_imgs:\n",
    "    # extract html element from current page \n",
    "    page = browser.find_element_by_xpath(\"//*\").get_attribute(\"outerHTML\")\n",
    "    soup = BeautifulSoup(page, 'lxml')\n",
    "    all_div_tags = soup.find_all('div',attrs={'class': 'inner'})\n",
    "    for d in all_div_tags:\n",
    "        if d.p.span.a: \n",
    "            # get each image's a tag link, open it \n",
    "            imageLink = rootPath + d.p.span.a['href']\n",
    "            subpage = urlopen(imageLink)\n",
    "            # process this 2nd layer webpage \n",
    "            subsoup = BeautifulSoup(subpage, 'lxml')\n",
    "            target = subsoup.find_all('li', attrs={'class': 'selected'})\n",
    "            # info of lesion type is on the right side of this 2nd layer webpage\n",
    "            # exact lesion type at: the next order list element after that which has 'Primary Lesion' as text\n",
    "            lesions = subsoup.find(text=re.compile('Primary Lesions')).parent.findNext('ul').find_all('li')\n",
    "            img_list.append(rootPath + target[0].figure.a['href'])\n",
    "            tmp_lesion = []\n",
    "            for li in lesions:\n",
    "                # strip off special characters in the lesion type paragraph; put them altogether\n",
    "                tmp_lesion.append(li.getText().strip(' \\t\\r\\n'))\n",
    "            lesion_label_list.append(tmp_lesion)\n",
    "            if len(img_list) >= max_imgs:\n",
    "                    break\n",
    "    try:\n",
    "        nextBtn = browser.find_element_by_css_selector(\".next.active\")\n",
    "        nextBtn.click()\n",
    "        time.sleep(2)\n",
    "    except:\n",
    "        break"
   ]
  },
  {
   "cell_type": "code",
   "execution_count": 28,
   "metadata": {},
   "outputs": [
    {
     "name": "stdout",
     "output_type": "stream",
     "text": [
      "https://www.dermquest.com/imagelibrary/large/032521HB.JPG\n",
      "['Pustule / follicular']\n"
     ]
    }
   ],
   "source": [
    "for i in range(len(img_list)):\n",
    "    print(img_list[i])\n",
    "    print(lesion_label_list[i])"
   ]
  },
  {
   "cell_type": "code",
   "execution_count": 9,
   "metadata": {},
   "outputs": [
    {
     "data": {
      "text/plain": [
       "16"
      ]
     },
     "execution_count": 9,
     "metadata": {},
     "output_type": "execute_result"
    }
   ],
   "source": [
    "len(img_list)"
   ]
  },
  {
   "cell_type": "code",
   "execution_count": 10,
   "metadata": {},
   "outputs": [
    {
     "name": "stdout",
     "output_type": "stream",
     "text": [
      "16\n"
     ]
    }
   ],
   "source": [
    "test = set(img_list)\n",
    "print(len(test))"
   ]
  },
  {
   "cell_type": "code",
   "execution_count": null,
   "metadata": {
    "collapsed": true
   },
   "outputs": [],
   "source": []
  }
 ],
 "metadata": {
  "kernelspec": {
   "display_name": "Python 3",
   "language": "python",
   "name": "python3"
  },
  "language_info": {
   "codemirror_mode": {
    "name": "ipython",
    "version": 3
   },
   "file_extension": ".py",
   "mimetype": "text/x-python",
   "name": "python",
   "nbconvert_exporter": "python",
   "pygments_lexer": "ipython3",
   "version": "3.6.3"
  }
 },
 "nbformat": 4,
 "nbformat_minor": 2
}
